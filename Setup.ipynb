{
 "cells": [
  {
   "cell_type": "code",
   "execution_count": 0,
   "metadata": {
    "application/vnd.databricks.v1+cell": {
     "cellMetadata": {
      "byteLimit": 2048000,
      "implicitDf": true,
      "rowLimit": 10000
     },
     "inputWidgets": {},
     "nuid": "e21708a8-21f8-4f29-a1e8-f971a4f11629",
     "showTitle": false,
     "tableResultSettingsMap": {},
     "title": ""
    }
   },
   "outputs": [],
   "source": [
    "%sql\n",
    "-- Catálogo\n",
    "GRANT USE CATALOG ON CATALOG lakehouse TO data_engineers;\n",
    "GRANT USE CATALOG ON CATALOG lakehouse TO data_analysts;\n",
    "GRANT USE CATALOG ON CATALOG lakehouse TO data_scientists;\n",
    "GRANT USE CATALOG ON CATALOG lakehouse TO business_users;\n",
    "\n",
    "-- RAW (restrito a engenheiros)\n",
    "GRANT USE SCHEMA ON SCHEMA lakehouse.raw TO data_engineers;\n",
    "-- GRANT SELECT ON ALL TABLES IN SCHEMA lakehouse.raw TO data_engineers;\n",
    "\n",
    "-- BRONZE (eng: criar/modificar; analistas: leitura)\n",
    "GRANT USE SCHEMA ON SCHEMA lakehouse.bronze TO data_engineers;\n",
    "GRANT USE SCHEMA ON SCHEMA lakehouse.bronze TO data_analysts;\n",
    "-- GRANT SELECT ON ALL TABLES IN SCHEMA lakehouse.bronze TO data_analysts;\n",
    "\n",
    "-- SILVER (leitura p/ times técnicos)\n",
    "GRANT USE SCHEMA ON SCHEMA lakehouse.silver TO data_engineers;\n",
    "GRANT USE SCHEMA ON SCHEMA lakehouse.silver TO data_analysts;\n",
    "GRANT USE SCHEMA ON SCHEMA lakehouse.silver TO data_scientists;\n",
    "-- GRANT SELECT ON ALL TABLES IN SCHEMA lakehouse.silver TO data_engineers;\n",
    "-- GRANT SELECT ON ALL TABLES IN SCHEMA lakehouse.silver TO data_analysts;\n",
    "-- GRANT SELECT ON ALL TABLES IN SCHEMA lakehouse.silver TO data_scientists;\n",
    "\n",
    "-- GOLD (leitura ampla, incluindo negócio)\n",
    "GRANT USE SCHEMA ON SCHEMA lakehouse.gold TO data_engineers;\n",
    "GRANT USE SCHEMA ON SCHEMA lakehouse.gold TO data_analysts;\n",
    "GRANT USE SCHEMA ON SCHEMA lakehouse.gold TO data_scientists;\n",
    "GRANT USE SCHEMA ON SCHEMA lakehouse.gold TO business_users;\n",
    "-- GRANT SELECT ON ALL TABLES IN SCHEMA lakehouse.gold TO data_engineers;\n",
    "-- GRANT SELECT ON ALL TABLES IN SCHEMA lakehouse.gold TO data_analysts;\n",
    "-- GRANT SELECT ON ALL TABLES IN SCHEMA lakehouse.gold TO data_scientists;\n",
    "-- GRANT SELECT ON ALL TABLES IN SCHEMA lakehouse.gold TO business_users;"
   ]
  }
 ],
 "metadata": {
  "application/vnd.databricks.v1+notebook": {
   "computePreferences": null,
   "dashboards": [],
   "environmentMetadata": {
    "base_environment": "",
    "environment_version": "4"
   },
   "inputWidgetPreferences": null,
   "language": "python",
   "notebookMetadata": {
    "mostRecentlyExecutedCommandWithImplicitDF": {
     "commandId": 7098723115218689,
     "dataframes": [
      "_sqldf"
     ]
    },
    "pythonIndentUnit": 4
   },
   "notebookName": "Setup",
   "widgets": {}
  },
  "language_info": {
   "name": "python"
  }
 },
 "nbformat": 4,
 "nbformat_minor": 0
}
